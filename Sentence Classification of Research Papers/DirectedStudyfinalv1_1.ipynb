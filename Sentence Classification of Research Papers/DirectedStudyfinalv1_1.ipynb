{
  "nbformat": 4,
  "nbformat_minor": 0,
  "metadata": {
    "kernelspec": {
      "display_name": "Python 3",
      "language": "python",
      "name": "python3"
    },
    "language_info": {
      "codemirror_mode": {
        "name": "ipython",
        "version": 3
      },
      "file_extension": ".py",
      "mimetype": "text/x-python",
      "name": "python",
      "nbconvert_exporter": "python",
      "pygments_lexer": "ipython3",
      "version": "3.7.0"
    },
    "colab": {
      "name": "DirectedStudyfinalv1.1.ipynb",
      "provenance": []
    }
  },
  "cells": [
    {
      "cell_type": "code",
      "metadata": {
        "id": "n7OxNvT4-rZr",
        "colab_type": "code",
        "colab": {}
      },
      "source": [
        ""
      ],
      "execution_count": 0,
      "outputs": []
    },
    {
      "cell_type": "code",
      "metadata": {
        "id": "7SIygYzR-rZu",
        "colab_type": "code",
        "outputId": "a386f363-a105-4e94-8f5e-91583604067e",
        "colab": {}
      },
      "source": [
        "import pandas as pd\n",
        "\n",
        "journal_data = pd.read_csv('C:/Users/ashukl6/Downloads/finaldata1.csv', sep='::')\n",
        "journal_data.head()"
      ],
      "execution_count": 0,
      "outputs": [
        {
          "output_type": "stream",
          "text": [
            "C:\\Users\\ashukl6\\AppData\\Local\\Continuum\\anaconda3\\lib\\site-packages\\ipykernel_launcher.py:3: ParserWarning: Falling back to the 'python' engine because the 'c' engine does not support regex separators (separators > 1 char and different from '\\s+' are interpreted as regex); you can avoid this warning by specifying engine='python'.\n",
            "  This is separate from the ipykernel package so we can avoid doing imports until\n"
          ],
          "name": "stderr"
        },
        {
          "output_type": "execute_result",
          "data": {
            "text/html": [
              "<div>\n",
              "<style scoped>\n",
              "    .dataframe tbody tr th:only-of-type {\n",
              "        vertical-align: middle;\n",
              "    }\n",
              "\n",
              "    .dataframe tbody tr th {\n",
              "        vertical-align: top;\n",
              "    }\n",
              "\n",
              "    .dataframe thead th {\n",
              "        text-align: right;\n",
              "    }\n",
              "</style>\n",
              "<table border=\"1\" class=\"dataframe\">\n",
              "  <thead>\n",
              "    <tr style=\"text-align: right;\">\n",
              "      <th></th>\n",
              "      <th>Sentence Description</th>\n",
              "      <th>Category</th>\n",
              "    </tr>\n",
              "  </thead>\n",
              "  <tbody>\n",
              "    <tr>\n",
              "      <th>0</th>\n",
              "      <td>Frozen sections of various green fluorescent p...</td>\n",
              "      <td>method</td>\n",
              "    </tr>\n",
              "    <tr>\n",
              "      <th>1</th>\n",
              "      <td>For example , the film method is useful for ch...</td>\n",
              "      <td>method</td>\n",
              "    </tr>\n",
              "    <tr>\n",
              "      <th>2</th>\n",
              "      <td>Specifically , Kawamoto and Shimizu recommend ...</td>\n",
              "      <td>method</td>\n",
              "    </tr>\n",
              "    <tr>\n",
              "      <th>3</th>\n",
              "      <td>Recently , Sado et al. introduced a novel way ...</td>\n",
              "      <td>method</td>\n",
              "    </tr>\n",
              "    <tr>\n",
              "      <th>4</th>\n",
              "      <td>These considerations led us to explore an impr...</td>\n",
              "      <td>method</td>\n",
              "    </tr>\n",
              "  </tbody>\n",
              "</table>\n",
              "</div>"
            ],
            "text/plain": [
              "                                Sentence Description Category\n",
              "0  Frozen sections of various green fluorescent p...   method\n",
              "1  For example , the film method is useful for ch...   method\n",
              "2  Specifically , Kawamoto and Shimizu recommend ...   method\n",
              "3  Recently , Sado et al. introduced a novel way ...   method\n",
              "4  These considerations led us to explore an impr...   method"
            ]
          },
          "metadata": {
            "tags": []
          },
          "execution_count": 1
        }
      ]
    },
    {
      "cell_type": "code",
      "metadata": {
        "id": "yqWU3Wag-rZy",
        "colab_type": "code",
        "outputId": "f8c2669a-f53e-442e-e6d5-3bb9cec52148",
        "colab": {}
      },
      "source": [
        "journal_data['Sentence Description'] = journal_data['Sentence Description'].str.replace(\"\\r\", \" \")\n",
        "journal_data['Sentence Description'] = journal_data['Sentence Description'].str.replace(\"\\n\", \" \")\n",
        "journal_data['Sentence Description'] = journal_data['Sentence Description'].str.replace(\"    \", \" \")\n",
        "\n",
        "journal_data['Sentence Description'] = journal_data['Sentence Description'].str.replace('\"', '')\n",
        "journal_data['Sentence Description'] = journal_data['Sentence Description'].str.lower()\n",
        "\n",
        "punctuation_signs = list(\"?:!.,;\")\n",
        "\n",
        "for punct_sign in punctuation_signs:\n",
        "    journal_data['Sentence Description'] = journal_data['Sentence Description'].str.replace(punct_sign, '')\n",
        "    \n",
        "journal_data['Sentence Description'] = journal_data['Sentence Description'].str.replace(\"'s\", \"\")\n",
        "\n",
        "import nltk\n",
        "from nltk.corpus import stopwords\n",
        "from nltk.stem import WordNetLemmatizer\n",
        "\n",
        "nltk.download('punkt')\n",
        "print(\"------------------------------------------------------------\")\n",
        "nltk.download('wordnet')\n",
        "\n",
        "wordnet_lemmatizer = WordNetLemmatizer()\n",
        "\n",
        "\n",
        "nrows = len(journal_data)\n",
        "lemmatized_text_list = []\n",
        "\n",
        "for row in range(0, nrows):\n",
        "    \n",
        "    # Create an empty list containing lemmatized words\n",
        "    lemmatized_list = []\n",
        "    \n",
        "    # Save the text and its words into an object\n",
        "    text = journal_data.loc[row]['Sentence Description']\n",
        "    text_words = text.split(\" \")\n",
        "\n",
        "    # Iterate through every word to lemmatize\n",
        "    for word in text_words:\n",
        "        lemmatized_list.append(wordnet_lemmatizer.lemmatize(word, pos=\"v\"))\n",
        "        \n",
        "    # Join the list\n",
        "    lemmatized_text = \" \".join(lemmatized_list)\n",
        "    \n",
        "    # Append to the list containing the texts\n",
        "    lemmatized_text_list.append(lemmatized_text)\n",
        "    \n",
        "\n",
        "\n",
        "journal_data['Sentence Description'] = lemmatized_text_list\n",
        "\n",
        "journal_data.head()\n",
        "\n",
        "# Downloading the stop words list\n",
        "nltk.download('stopwords')\n",
        "\n",
        "stop_words = list(stopwords.words('english'))\n",
        "\n",
        "for stop_word in stop_words:\n",
        "\n",
        "    regex_stopword = r\"\\b\" + stop_word + r\"\\b\"\n",
        "    journal_data['Sentence Description'] = journal_data['Sentence Description'].str.replace(regex_stopword, '')\n",
        "    \n",
        "\n",
        "journal_data.head()    \n"
      ],
      "execution_count": 0,
      "outputs": [
        {
          "output_type": "stream",
          "text": [
            "[nltk_data] Downloading package punkt to\n",
            "[nltk_data]     C:\\Users\\ashukl6\\AppData\\Roaming\\nltk_data...\n",
            "[nltk_data]   Package punkt is already up-to-date!\n",
            "------------------------------------------------------------\n",
            "[nltk_data] Downloading package wordnet to\n",
            "[nltk_data]     C:\\Users\\ashukl6\\AppData\\Roaming\\nltk_data...\n",
            "[nltk_data]   Package wordnet is already up-to-date!\n",
            "[nltk_data] Downloading package stopwords to\n",
            "[nltk_data]     C:\\Users\\ashukl6\\AppData\\Roaming\\nltk_data...\n",
            "[nltk_data]   Package stopwords is already up-to-date!\n"
          ],
          "name": "stdout"
        },
        {
          "output_type": "execute_result",
          "data": {
            "text/html": [
              "<div>\n",
              "<style scoped>\n",
              "    .dataframe tbody tr th:only-of-type {\n",
              "        vertical-align: middle;\n",
              "    }\n",
              "\n",
              "    .dataframe tbody tr th {\n",
              "        vertical-align: top;\n",
              "    }\n",
              "\n",
              "    .dataframe thead th {\n",
              "        text-align: right;\n",
              "    }\n",
              "</style>\n",
              "<table border=\"1\" class=\"dataframe\">\n",
              "  <thead>\n",
              "    <tr style=\"text-align: right;\">\n",
              "      <th></th>\n",
              "      <th>Sentence Description</th>\n",
              "      <th>Category</th>\n",
              "    </tr>\n",
              "  </thead>\n",
              "  <tbody>\n",
              "    <tr>\n",
              "      <th>0</th>\n",
              "      <td>freeze section  various green fluorescent prot...</td>\n",
              "      <td>method</td>\n",
              "    </tr>\n",
              "    <tr>\n",
              "      <th>1</th>\n",
              "      <td>example   film method  useful  chase donor ce...</td>\n",
              "      <td>method</td>\n",
              "    </tr>\n",
              "    <tr>\n",
              "      <th>2</th>\n",
              "      <td>specifically  kawamoto  shimizu recommend 5-  ...</td>\n",
              "      <td>method</td>\n",
              "    </tr>\n",
              "    <tr>\n",
              "      <th>3</th>\n",
              "      <td>recently  sado et al introduce  novel way  pro...</td>\n",
              "      <td>method</td>\n",
              "    </tr>\n",
              "    <tr>\n",
              "      <th>4</th>\n",
              "      <td>considerations lead us  explore  improve meth...</td>\n",
              "      <td>method</td>\n",
              "    </tr>\n",
              "  </tbody>\n",
              "</table>\n",
              "</div>"
            ],
            "text/plain": [
              "                                Sentence Description Category\n",
              "0  freeze section  various green fluorescent prot...   method\n",
              "1   example   film method  useful  chase donor ce...   method\n",
              "2  specifically  kawamoto  shimizu recommend 5-  ...   method\n",
              "3  recently  sado et al introduce  novel way  pro...   method\n",
              "4   considerations lead us  explore  improve meth...   method"
            ]
          },
          "metadata": {
            "tags": []
          },
          "execution_count": 2
        }
      ]
    },
    {
      "cell_type": "code",
      "metadata": {
        "id": "Cs1sxpvn-rZ0",
        "colab_type": "code",
        "outputId": "d6b00358-6825-4d8a-80e1-85c9e4d1f47f",
        "colab": {}
      },
      "source": [
        "journal_data[\"Category\"].value_counts()"
      ],
      "execution_count": 0,
      "outputs": [
        {
          "output_type": "execute_result",
          "data": {
            "text/plain": [
              "conclusion    7171\n",
              "method        7171\n",
              "result        7171\n",
              "Name: Category, dtype: int64"
            ]
          },
          "metadata": {
            "tags": []
          },
          "execution_count": 13
        }
      ]
    },
    {
      "cell_type": "code",
      "metadata": {
        "id": "MxlQ2iM--rZ3",
        "colab_type": "code",
        "colab": {}
      },
      "source": [
        "from sklearn.utils import resample"
      ],
      "execution_count": 0,
      "outputs": []
    },
    {
      "cell_type": "code",
      "metadata": {
        "id": "rmkdOb-d-rZ5",
        "colab_type": "code",
        "outputId": "cd15a2b4-470b-4a37-9ea1-31bdc27ab105",
        "colab": {}
      },
      "source": [
        "# Separate majority and minority classes\n",
        "df_majority = journal_data[journal_data.Category==\"result\"]\n",
        "df_minority = journal_data[journal_data.Category==\"method\"]\n",
        " \n",
        "# Downsample majority class\n",
        "df_majority_downsampled = resample(df_majority, \n",
        "                                 replace=False,    # sample without replacement\n",
        "                                 n_samples=7171,     # to match minority class\n",
        "                                 random_state=123) # reproducible results\n",
        " \n",
        "# Combine minority class with downsampled majority class\n",
        "df_downsampled = pd.concat([df_majority_downsampled, df_minority])\n",
        " \n",
        "# Display new class counts\n",
        "df_downsampled.Category.value_counts()"
      ],
      "execution_count": 0,
      "outputs": [
        {
          "output_type": "execute_result",
          "data": {
            "text/plain": [
              "method    7171\n",
              "result    7171\n",
              "Name: Category, dtype: int64"
            ]
          },
          "metadata": {
            "tags": []
          },
          "execution_count": 9
        }
      ]
    },
    {
      "cell_type": "code",
      "metadata": {
        "id": "q_fqHV1X-rZ7",
        "colab_type": "code",
        "outputId": "675307d1-926d-4b93-c982-83d413c5ac0b",
        "colab": {}
      },
      "source": [
        "df_downsampled.head()"
      ],
      "execution_count": 0,
      "outputs": [
        {
          "output_type": "execute_result",
          "data": {
            "text/html": [
              "<div>\n",
              "<style scoped>\n",
              "    .dataframe tbody tr th:only-of-type {\n",
              "        vertical-align: middle;\n",
              "    }\n",
              "\n",
              "    .dataframe tbody tr th {\n",
              "        vertical-align: top;\n",
              "    }\n",
              "\n",
              "    .dataframe thead th {\n",
              "        text-align: right;\n",
              "    }\n",
              "</style>\n",
              "<table border=\"1\" class=\"dataframe\">\n",
              "  <thead>\n",
              "    <tr style=\"text-align: right;\">\n",
              "      <th></th>\n",
              "      <th>Sentence Description</th>\n",
              "      <th>Category</th>\n",
              "    </tr>\n",
              "  </thead>\n",
              "  <tbody>\n",
              "    <tr>\n",
              "      <th>1044</th>\n",
              "      <td>furthermore   response  hgpi539-558    -synthe...</td>\n",
              "      <td>result</td>\n",
              "    </tr>\n",
              "    <tr>\n",
              "      <th>21881</th>\n",
              "      <td>fly contain  eyeless-gal4 driver  cross   line...</td>\n",
              "      <td>result</td>\n",
              "    </tr>\n",
              "    <tr>\n",
              "      <th>7273</th>\n",
              "      <td>three hedgehog ( hh ) proteins function  bind...</td>\n",
              "      <td>result</td>\n",
              "    </tr>\n",
              "    <tr>\n",
              "      <th>8105</th>\n",
              "      <td>since greater  90 %  cells   cell line test  p...</td>\n",
              "      <td>result</td>\n",
              "    </tr>\n",
              "    <tr>\n",
              "      <th>14107</th>\n",
              "      <td>addition  expression level  atp synthase comp...</td>\n",
              "      <td>result</td>\n",
              "    </tr>\n",
              "  </tbody>\n",
              "</table>\n",
              "</div>"
            ],
            "text/plain": [
              "                                    Sentence Description Category\n",
              "1044   furthermore   response  hgpi539-558    -synthe...   result\n",
              "21881  fly contain  eyeless-gal4 driver  cross   line...   result\n",
              "7273    three hedgehog ( hh ) proteins function  bind...   result\n",
              "8105   since greater  90 %  cells   cell line test  p...   result\n",
              "14107   addition  expression level  atp synthase comp...   result"
            ]
          },
          "metadata": {
            "tags": []
          },
          "execution_count": 10
        }
      ]
    },
    {
      "cell_type": "code",
      "metadata": {
        "id": "t7_F_ckI-rZ9",
        "colab_type": "code",
        "outputId": "cb5295ee-e161-4ffe-b093-cde0fcb6d867",
        "colab": {}
      },
      "source": [
        "df_minority = journal_data[journal_data.Category==\"conclusion\"]\n",
        "\n",
        "df_minority_upsampled = resample(df_minority, \n",
        "                                 replace=True,    # sample without replacement\n",
        "                                 n_samples=7171,     # to match minority class\n",
        "                                 random_state=123) # reproducible results\n",
        " \n",
        "# Combine minority class with downsampled majority class\n",
        "df_downsampled = pd.concat([df_minority_upsampled, df_downsampled])\n",
        " \n",
        "# Display new class counts\n",
        "df_downsampled.Category.value_counts()"
      ],
      "execution_count": 0,
      "outputs": [
        {
          "output_type": "execute_result",
          "data": {
            "text/plain": [
              "conclusion    7171\n",
              "method        7171\n",
              "result        7171\n",
              "Name: Category, dtype: int64"
            ]
          },
          "metadata": {
            "tags": []
          },
          "execution_count": 11
        }
      ]
    },
    {
      "cell_type": "code",
      "metadata": {
        "id": "1LLOE8fF-raA",
        "colab_type": "code",
        "colab": {}
      },
      "source": [
        "journal_data = df_downsampled"
      ],
      "execution_count": 0,
      "outputs": []
    },
    {
      "cell_type": "code",
      "metadata": {
        "id": "e5lyYTed-raD",
        "colab_type": "code",
        "colab": {}
      },
      "source": [
        "from sklearn.preprocessing import LabelEncoder\n",
        "\n",
        "lb_make = LabelEncoder()\n",
        "journal_data[\"Category_code\"] = lb_make.fit_transform(journal_data[\"Category\"])\n",
        "\n",
        "from sklearn.feature_extraction.text import TfidfVectorizer\n",
        "from sklearn.model_selection import train_test_split\n",
        "X_train, X_test, y_train, y_test = train_test_split(journal_data['Sentence Description'], \n",
        "                                                    journal_data['Category_code'], \n",
        "                                                    test_size=0.15, \n",
        "                                                    random_state=8)\n"
      ],
      "execution_count": 0,
      "outputs": []
    },
    {
      "cell_type": "code",
      "metadata": {
        "id": "9BT4m_Th-raH",
        "colab_type": "code",
        "colab": {}
      },
      "source": [
        "from tensorflow.python.keras.preprocessing.text import Tokenizer\n",
        "\n",
        "tokenizer = Tokenizer(num_words=5000)\n",
        "tokenizer.fit_on_texts(X_train)\n",
        "\n",
        "X_train = tokenizer.texts_to_sequences(X_train)\n",
        "X_test = tokenizer.texts_to_sequences(X_test)\n",
        "\n",
        "vocab_size = len(tokenizer.word_index) + 1"
      ],
      "execution_count": 0,
      "outputs": []
    },
    {
      "cell_type": "code",
      "metadata": {
        "id": "V2CjLS6v-raJ",
        "colab_type": "code",
        "outputId": "2515d553-a43a-4778-bd53-ab4d505e667d",
        "colab": {}
      },
      "source": [
        "from tensorflow.python.keras.preprocessing.sequence import pad_sequences\n",
        "\n",
        "maxlen = 100\n",
        "\n",
        "X_train = pad_sequences(X_train, padding='post', maxlen=maxlen)\n",
        "X_test = pad_sequences(X_test, padding='post', maxlen=maxlen)\n",
        "\n",
        "print(X_train[0, :])\n"
      ],
      "execution_count": 0,
      "outputs": [
        {
          "output_type": "stream",
          "text": [
            "[ 502   11 1066 1297    2 1033 3024 1297 4416 2009 4913  172   86   65\n",
            " 1701    0    0    0    0    0    0    0    0    0    0    0    0    0\n",
            "    0    0    0    0    0    0    0    0    0    0    0    0    0    0\n",
            "    0    0    0    0    0    0    0    0    0    0    0    0    0    0\n",
            "    0    0    0    0    0    0    0    0    0    0    0    0    0    0\n",
            "    0    0    0    0    0    0    0    0    0    0    0    0    0    0\n",
            "    0    0    0    0    0    0    0    0    0    0    0    0    0    0\n",
            "    0    0]\n"
          ],
          "name": "stdout"
        }
      ]
    },
    {
      "cell_type": "code",
      "metadata": {
        "id": "KZp12XTI-raL",
        "colab_type": "code",
        "colab": {}
      },
      "source": [
        "from tensorflow.python.keras.utils import np_utils\n",
        "\n",
        "ytrain = np_utils.to_categorical(y_train)\n",
        "ytest =  np_utils.to_categorical(y_test)"
      ],
      "execution_count": 0,
      "outputs": []
    },
    {
      "cell_type": "code",
      "metadata": {
        "id": "pXkA3Ofp-raN",
        "colab_type": "code",
        "outputId": "f44ed03b-3b1b-4b2a-ff53-71317bc88339",
        "colab": {}
      },
      "source": [
        "print(X_train[6000])\n"
      ],
      "execution_count": 0,
      "outputs": [
        {
          "output_type": "stream",
          "text": [
            "[4895 2424  691  405   39 4399    0    0    0    0    0    0    0    0\n",
            "    0    0    0    0    0    0    0    0    0    0    0    0    0    0\n",
            "    0    0    0    0    0    0    0    0    0    0    0    0    0    0\n",
            "    0    0    0    0    0    0    0    0    0    0    0    0    0    0\n",
            "    0    0    0    0    0    0    0    0    0    0    0    0    0    0\n",
            "    0    0    0    0    0    0    0    0    0    0    0    0    0    0\n",
            "    0    0    0    0    0    0    0    0    0    0    0    0    0    0\n",
            "    0    0]\n"
          ],
          "name": "stdout"
        }
      ]
    },
    {
      "cell_type": "code",
      "metadata": {
        "id": "MLOy-fjk-raQ",
        "colab_type": "code",
        "colab": {}
      },
      "source": [
        "# # embedding_dim = 50\n",
        "# # embedding_matrix = create_embedding_matrix(\n",
        "# #      'C:/Users/ashukl6/Downloads/bio_embedding_extrinsic',\n",
        "# #      tokenizer.word_index, embedding_dim)\n",
        "\n",
        "# from gensim.models import FastText\n",
        "# model = FastText.load_fasttext_format('C:/Users/ashukl6/Downloads/bio_embedding_extrinsic')\n",
        "\n",
        "from gensim.models import KeyedVectors\n",
        "model = KeyedVectors.load_word2vec_format('C:/Users/ashukl6/Downloads/bio_embedding_extrinsic', binary=True)"
      ],
      "execution_count": 0,
      "outputs": []
    },
    {
      "cell_type": "code",
      "metadata": {
        "id": "4ihyaGi4-raS",
        "colab_type": "code",
        "colab": {}
      },
      "source": [
        "# import numpy as np\n",
        "\n",
        "# def create_embedding_matrix(filepath, word_index, embedding_dim):\n",
        "#     vocab_size = len(word_index) + 1  # Adding again 1 because of reserved 0 index\n",
        "#     embedding_matrix = np.zeros((vocab_size, embedding_dim))\n",
        "\n",
        "#     with open(filepath, 'rb') as f:\n",
        "#         for line in f:\n",
        "#             print(line) \n",
        "#             word, *vector = line.split()\n",
        "#             if word in word_index:\n",
        "#                 idx = word_index[word] \n",
        "#                 embedding_matrix[idx] = np.array(\n",
        "#                     vector, dtype=np.float32)[:embedding_dim]\n",
        "\n",
        "#     return embedding_matrix"
      ],
      "execution_count": 0,
      "outputs": []
    },
    {
      "cell_type": "code",
      "metadata": {
        "id": "B2GxTU8_-raV",
        "colab_type": "code",
        "outputId": "379b56d1-e768-4a6b-e299-9ee55acf47b7",
        "colab": {}
      },
      "source": [
        "len(tokenizer.word_index)"
      ],
      "execution_count": 0,
      "outputs": [
        {
          "output_type": "execute_result",
          "data": {
            "text/plain": [
              "23375"
            ]
          },
          "metadata": {
            "tags": []
          },
          "execution_count": 20
        }
      ]
    },
    {
      "cell_type": "code",
      "metadata": {
        "id": "x9q7KsYX-raX",
        "colab_type": "code",
        "colab": {}
      },
      "source": [
        "import numpy as np\n",
        "embedding_dim=200\n",
        "vocab_size = len(tokenizer.word_index) + 1\n",
        "embedding_matrix = np.zeros((vocab_size, embedding_dim))\n",
        "        \n",
        "for word, i in tokenizer.word_index.items():\n",
        "    try:\n",
        "        embedding_vector = model[word]\n",
        "        embedding_matrix[i] = embedding_vector\n",
        "    except KeyError:\n",
        "        embedding_matrix[i]=np.random.normal(0,np.sqrt(0.25),embedding_dim)\n",
        "                "
      ],
      "execution_count": 0,
      "outputs": []
    },
    {
      "cell_type": "code",
      "metadata": {
        "id": "s-W8Nk4Y-raY",
        "colab_type": "code",
        "outputId": "9701fe9a-8cce-4b8c-a2cc-d2632b928210",
        "colab": {}
      },
      "source": [
        "from tensorflow.python.keras.models import Sequential\n",
        "from tensorflow.python.keras import layers\n",
        "from tensorflow.python.keras.wrappers.scikit_learn import KerasClassifier\n",
        "\n",
        "#input_dim = features_train.shape[1]\n",
        "\n",
        "# define baseline model\n",
        "#def baseline_model():\n",
        "model = Sequential()\n",
        "model.add(layers.Embedding(vocab_size, embedding_dim, \n",
        "                           weights=[embedding_matrix], \n",
        "                           input_length=maxlen, \n",
        "                           trainable=True))\n",
        "model.add(layers.GlobalMaxPool1D())\n",
        "#model.add(layers.Dense(5, input_dim=input_dim, activation='relu'))\n",
        "model.add(layers.Dense(5,  activation='relu'))\n",
        "model.add(layers.Dense(3, activation='softmax'))\n",
        "model.compile(loss='categorical_crossentropy',optimizer='adam',metrics=['accuracy'])\n",
        "\n",
        "#estimator = KerasClassifier(build_fn=baseline_model, epochs=200, batch_size=5, verbose=0)  \n",
        "  \n"
      ],
      "execution_count": 0,
      "outputs": [
        {
          "output_type": "stream",
          "text": [
            "WARNING:tensorflow:From C:\\Users\\ashukl6\\AppData\\Local\\Continuum\\anaconda3\\lib\\site-packages\\tensorflow\\python\\ops\\resource_variable_ops.py:435: colocate_with (from tensorflow.python.framework.ops) is deprecated and will be removed in a future version.\n",
            "Instructions for updating:\n",
            "Colocations handled automatically by placer.\n"
          ],
          "name": "stdout"
        }
      ]
    },
    {
      "cell_type": "code",
      "metadata": {
        "id": "y3rCI_T1-raa",
        "colab_type": "code",
        "outputId": "b7aa9063-4e4c-4dda-f165-4e77507c00c2",
        "colab": {}
      },
      "source": [
        "history = model.fit(X_train,ytrain,epochs=10,batch_size=10,validation_data=[X_test,ytest])"
      ],
      "execution_count": 0,
      "outputs": [
        {
          "output_type": "stream",
          "text": [
            "Train on 18286 samples, validate on 3227 samples\n",
            "WARNING:tensorflow:From C:\\Users\\ashukl6\\AppData\\Local\\Continuum\\anaconda3\\lib\\site-packages\\tensorflow\\python\\ops\\math_ops.py:3066: to_int32 (from tensorflow.python.ops.math_ops) is deprecated and will be removed in a future version.\n",
            "Instructions for updating:\n",
            "Use tf.cast instead.\n",
            "WARNING:tensorflow:From C:\\Users\\ashukl6\\AppData\\Local\\Continuum\\anaconda3\\lib\\site-packages\\tensorflow\\python\\ops\\math_grad.py:102: div (from tensorflow.python.ops.math_ops) is deprecated and will be removed in a future version.\n",
            "Instructions for updating:\n",
            "Deprecated in favor of operator or tf.math.divide.\n",
            "Epoch 1/10\n",
            "18286/18286 [==============================] - 71s 4ms/sample - loss: 0.6947 - acc: 0.6810 - val_loss: 0.4425 - val_acc: 0.8125\n",
            "Epoch 2/10\n",
            "18286/18286 [==============================] - 71s 4ms/sample - loss: 0.3157 - acc: 0.8782 - val_loss: 0.3698 - val_acc: 0.8336\n",
            "Epoch 3/10\n",
            "18286/18286 [==============================] - 71s 4ms/sample - loss: 0.1951 - acc: 0.9294 - val_loss: 0.3938 - val_acc: 0.8379\n",
            "Epoch 4/10\n",
            "18286/18286 [==============================] - 72s 4ms/sample - loss: 0.1109 - acc: 0.9665 - val_loss: 0.4681 - val_acc: 0.8385\n",
            "Epoch 5/10\n",
            "18286/18286 [==============================] - 71s 4ms/sample - loss: 0.0498 - acc: 0.9892 - val_loss: 0.5641 - val_acc: 0.8305\n",
            "Epoch 6/10\n",
            "18286/18286 [==============================] - 72s 4ms/sample - loss: 0.0208 - acc: 0.9963 - val_loss: 0.6736 - val_acc: 0.8289\n",
            "Epoch 7/10\n",
            "18286/18286 [==============================] - 72s 4ms/sample - loss: 0.0077 - acc: 0.9989 - val_loss: 0.7831 - val_acc: 0.8280\n",
            "Epoch 8/10\n",
            "18286/18286 [==============================] - 71s 4ms/sample - loss: 0.0021 - acc: 0.9998 - val_loss: 0.8762 - val_acc: 0.8289\n",
            "Epoch 9/10\n",
            "18286/18286 [==============================] - 71s 4ms/sample - loss: 7.0816e-04 - acc: 0.9999 - val_loss: 0.9664 - val_acc: 0.8299\n",
            "Epoch 10/10\n",
            "18286/18286 [==============================] - 74s 4ms/sample - loss: 3.6384e-04 - acc: 0.9999 - val_loss: 1.0329 - val_acc: 0.8293\n"
          ],
          "name": "stdout"
        }
      ]
    },
    {
      "cell_type": "code",
      "metadata": {
        "id": "dNI6Ed-u-rad",
        "colab_type": "code",
        "outputId": "8fe9bc46-5bd4-4dfb-9b75-7475e5db6647",
        "colab": {}
      },
      "source": [
        "loss, accuracy = model.evaluate(X_train, ytrain, verbose=False)\n",
        "print(\"Training Accuracy: {:.4f}\".format(accuracy))\n",
        "loss, accuracy = model.evaluate(X_test, ytest, verbose=False)\n",
        "print(\"Testing Accuracy:  {:.4f}\".format(accuracy))\n",
        "\n"
      ],
      "execution_count": 0,
      "outputs": [
        {
          "output_type": "stream",
          "text": [
            "Training Accuracy: 0.9999\n",
            "Testing Accuracy:  0.8293\n"
          ],
          "name": "stdout"
        }
      ]
    },
    {
      "cell_type": "code",
      "metadata": {
        "id": "mDLDKNYL-rah",
        "colab_type": "code",
        "colab": {}
      },
      "source": [
        "import matplotlib.pyplot as plt\n",
        "plt.style.use('ggplot')\n",
        "\n",
        "def plot_history(history):\n",
        "    acc = history.history['acc']\n",
        "    val_acc = history.history['val_acc']\n",
        "    loss = history.history['loss']\n",
        "    val_loss = history.history['val_loss']\n",
        "    x = range(1, len(acc) + 1)\n",
        "\n",
        "    plt.figure(figsize=(12, 5))\n",
        "    plt.subplot(1, 2, 1)\n",
        "    plt.plot(x, acc, 'b', label='Training acc')\n",
        "    plt.plot(x, val_acc, 'r', label='Validation acc')\n",
        "    plt.title('Training and validation accuracy')\n",
        "    plt.legend()\n",
        "    plt.subplot(1, 2, 2)\n",
        "    plt.plot(x, loss, 'b', label='Training loss')\n",
        "    plt.plot(x, val_loss, 'r', label='Validation loss')\n",
        "    plt.title('Training and validation loss')\n",
        "    plt.legend()"
      ],
      "execution_count": 0,
      "outputs": []
    },
    {
      "cell_type": "code",
      "metadata": {
        "id": "n9rmNhG6-rak",
        "colab_type": "code",
        "outputId": "bb22224e-9519-472d-ba0d-9380711e59ca",
        "colab": {}
      },
      "source": [
        "plot_history(history)"
      ],
      "execution_count": 0,
      "outputs": [
        {
          "output_type": "display_data",
          "data": {
            "image/png": "[encoded data removed]",
            "text/plain": [
              "<Figure size 864x360 with 2 Axes>"
            ]
          },
          "metadata": {
            "tags": [],
            "needs_background": "light"
          }
        }
      ]
    }
  ]
}